{
  "nbformat": 4,
  "nbformat_minor": 0,
  "metadata": {
    "colab": {
      "provenance": []
    },
    "kernelspec": {
      "name": "python3",
      "display_name": "Python 3"
    },
    "language_info": {
      "name": "python"
    }
  },
  "cells": [
    {
      "cell_type": "markdown",
      "source": [
        "# Q1"
      ],
      "metadata": {
        "id": "wO1VDKodaMVg"
      }
    },
    {
      "cell_type": "code",
      "source": [
        "import torch\n",
        "import torchvision\n",
        "import torchvision.transforms as transforms\n",
        "\n",
        "# Define transforms\n",
        "train_transform = transforms.Compose([\n",
        "    transforms.RandomRotation(5),\n",
        "    transforms.RandomCrop(size=28, padding=2),\n",
        "    transforms.ToTensor(),\n",
        "    transforms.Normalize((0.1307,), (0.3081,))\n",
        "])\n",
        "\n",
        "test_transform = transforms.Compose([\n",
        "    transforms.ToTensor(),\n",
        "    transforms.Normalize((0.1307,), (0.3081,))\n",
        "])\n",
        "\n",
        "# Download MNIST dataset\n",
        "trainset = torchvision.datasets.MNIST(root='./data', train=True, download=True,transform=train_transform)\n",
        "testset = torchvision.datasets.MNIST(root='./data', train=False, download=True,transform=test_transform)\n",
        "\n",
        "# Split into train, validation, and test datasets\n",
        "trainset, valset = torch.utils.data.random_split(trainset, [50000, 10000])\n",
        "testloader = torch.utils.data.DataLoader(testset, batch_size=32, shuffle=False)\n",
        "trainloader = torch.utils.data.DataLoader(trainset, batch_size=32, shuffle=True)\n",
        "valloader = torch.utils.data.DataLoader(valset, batch_size=32, shuffle=True)\n",
        "\n",
        "# # Apply transforms to train, validation, and test datasets\n",
        "# trainset.transform = train_transform\n",
        "# valset.transform = test_transform\n",
        "# testset.transform = test_transform\n"
      ],
      "metadata": {
        "id": "pGQ5PuWcrbLu",
        "colab": {
          "base_uri": "https://localhost:8080/"
        },
        "outputId": "8b122f9e-c4c9-4fed-bd8b-b1196ce660b0"
      },
      "execution_count": null,
      "outputs": [
        {
          "output_type": "stream",
          "name": "stdout",
          "text": [
            "Downloading http://yann.lecun.com/exdb/mnist/train-images-idx3-ubyte.gz\n",
            "Downloading http://yann.lecun.com/exdb/mnist/train-images-idx3-ubyte.gz to ./data/MNIST/raw/train-images-idx3-ubyte.gz\n"
          ]
        },
        {
          "output_type": "stream",
          "name": "stderr",
          "text": [
            "100%|██████████| 9912422/9912422 [00:00<00:00, 91519005.13it/s]\n"
          ]
        },
        {
          "output_type": "stream",
          "name": "stdout",
          "text": [
            "Extracting ./data/MNIST/raw/train-images-idx3-ubyte.gz to ./data/MNIST/raw\n",
            "\n",
            "Downloading http://yann.lecun.com/exdb/mnist/train-labels-idx1-ubyte.gz\n",
            "Downloading http://yann.lecun.com/exdb/mnist/train-labels-idx1-ubyte.gz to ./data/MNIST/raw/train-labels-idx1-ubyte.gz\n"
          ]
        },
        {
          "output_type": "stream",
          "name": "stderr",
          "text": [
            "100%|██████████| 28881/28881 [00:00<00:00, 44210107.24it/s]\n"
          ]
        },
        {
          "output_type": "stream",
          "name": "stdout",
          "text": [
            "Extracting ./data/MNIST/raw/train-labels-idx1-ubyte.gz to ./data/MNIST/raw\n",
            "\n",
            "Downloading http://yann.lecun.com/exdb/mnist/t10k-images-idx3-ubyte.gz\n",
            "Downloading http://yann.lecun.com/exdb/mnist/t10k-images-idx3-ubyte.gz to ./data/MNIST/raw/t10k-images-idx3-ubyte.gz\n"
          ]
        },
        {
          "output_type": "stream",
          "name": "stderr",
          "text": [
            "100%|██████████| 1648877/1648877 [00:00<00:00, 23835736.92it/s]\n"
          ]
        },
        {
          "output_type": "stream",
          "name": "stdout",
          "text": [
            "Extracting ./data/MNIST/raw/t10k-images-idx3-ubyte.gz to ./data/MNIST/raw\n",
            "\n",
            "Downloading http://yann.lecun.com/exdb/mnist/t10k-labels-idx1-ubyte.gz\n",
            "Downloading http://yann.lecun.com/exdb/mnist/t10k-labels-idx1-ubyte.gz to ./data/MNIST/raw/t10k-labels-idx1-ubyte.gz\n"
          ]
        },
        {
          "output_type": "stream",
          "name": "stderr",
          "text": [
            "100%|██████████| 4542/4542 [00:00<00:00, 4388511.58it/s]\n"
          ]
        },
        {
          "output_type": "stream",
          "name": "stdout",
          "text": [
            "Extracting ./data/MNIST/raw/t10k-labels-idx1-ubyte.gz to ./data/MNIST/raw\n",
            "\n"
          ]
        }
      ]
    },
    {
      "cell_type": "code",
      "source": [
        "import matplotlib.pyplot as plt\n",
        "classes = ('0', '1', '2', '3', '4', '5', '6', '7', '8', '9')\n",
        "fig, axes = plt.subplots(nrows=2, ncols=5, figsize=(10, 5))\n",
        "for i, ax in enumerate(axes.flat):\n",
        "    img, label = trainset[i]\n",
        "    ax.imshow(img[0], cmap='gray')\n",
        "    ax.set_title(f\"Label: {classes[label]}\")\n",
        "    ax.axis('off')\n",
        "\n",
        "plt.show()"
      ],
      "metadata": {
        "colab": {
          "base_uri": "https://localhost:8080/",
          "height": 291
        },
        "id": "YTjrroopvMfg",
        "outputId": "3a0e7da5-d1df-498c-d230-fdf25b945983"
      },
      "execution_count": null,
      "outputs": [
        {
          "output_type": "display_data",
          "data": {
            "text/plain": [
              "<Figure size 720x360 with 10 Axes>"
            ],
            "image/png": "[encoded data removed]"
          },
          "metadata": {
            "needs_background": "light"
          }
        }
      ]
    },
    {
      "cell_type": "code",
      "source": [
        "import torch.nn as nn\n",
        "\n",
        "class MLP(nn.Module):\n",
        "    def __init__(self, input_size, hidden_size, output_size):\n",
        "        super().__init__()\n",
        "        self.fc1 = nn.Linear(input_size, hidden_size)\n",
        "        self.fc2 = nn.Linear(hidden_size, hidden_size)\n",
        "        self.fc3 = nn.Linear(hidden_size, output_size)\n",
        "\n",
        "    def forward(self, x):\n",
        "        x = x.view(x.size(0), -1)\n",
        "        x = nn.functional.relu(self.fc1(x))\n",
        "        x = nn.functional.relu(self.fc2(x))\n",
        "        x = self.fc3(x)\n",
        "        return x\n",
        "\n",
        "# Create an instance of the model\n",
        "input_size = 28*28 # Size of MNIST images\n",
        "hidden_size = 128\n",
        "output_size = 10 # Number of classes\n",
        "model = MLP(input_size, hidden_size, output_size)\n",
        "\n",
        "# Print the number of trainable parameters\n",
        "num_params = sum(p.numel() for p in model.parameters() if p.requires_grad)\n",
        "print(f\"Number of trainable parameters: {num_params}\")"
      ],
      "metadata": {
        "colab": {
          "base_uri": "https://localhost:8080/"
        },
        "id": "cy4MV5MXw2h7",
        "outputId": "e7f5ee45-633e-4471-af12-6f1810281c35"
      },
      "execution_count": null,
      "outputs": [
        {
          "output_type": "stream",
          "name": "stdout",
          "text": [
            "Number of trainable parameters: 118282\n"
          ]
        }
      ]
    },
    {
      "cell_type": "code",
      "source": [
        "import torch.optim as optim\n",
        "\n",
        "optimizer = optim.Adam(model.parameters())\n",
        "criterion = nn.CrossEntropyLoss()\n",
        "\n",
        "best_acc = 0.0\n",
        "best_epoch = 0\n",
        "\n",
        "\n",
        "train_loss = []\n",
        "train_acc = []\n",
        "val_loss = []\n",
        "val_acc = []\n",
        "\n",
        "# Train the model for 5 epochs\n",
        "for epoch in range(5):\n",
        "    # Set the model to train mode\n",
        "    model.train()\n",
        "\n",
        "    # Define variables to keep track of the training loss and accuracy\n",
        "    running_loss = 0.0\n",
        "    running_corrects = 0\n",
        "\n",
        "    # Loop over the training data in batches\n",
        "    for inputs, labels in trainloader:\n",
        "        # Zero the parameter gradients\n",
        "        optimizer.zero_grad()\n",
        "\n",
        "        # Forward pass\n",
        "        outputs = model(inputs)\n",
        "        loss = criterion(outputs, labels)\n",
        "\n",
        "        # Backward pass and optimization\n",
        "        loss.backward()\n",
        "        optimizer.step()\n",
        "\n",
        "        # Update the training loss and accuracy\n",
        "        _, preds = torch.max(outputs, 1)\n",
        "        running_loss += loss.item() * inputs.size(0)\n",
        "        running_corrects += torch.sum(preds == labels.data)\n",
        "\n",
        "    # Calculate the average training loss and accuracy for this epoch\n",
        "    epoch_loss = running_loss / len(trainloader.dataset)\n",
        "    epoch_acc = running_corrects.double() / len(trainloader.dataset)\n",
        "\n",
        "    # Append the training loss and accuracy to the lists\n",
        "    train_loss.append(epoch_loss)\n",
        "    train_acc.append(epoch_acc)\n",
        "\n",
        "    # Print the training loss and accuracy\n",
        "    print(f\"Epoch {epoch+1}/{5} - Training Loss: {epoch_loss:.4f}, Training Accuracy: {epoch_acc:.4f}\")\n",
        "\n",
        "    # Set the model to evaluation mode\n",
        "    model.eval()\n",
        "\n",
        "    # Define variables to keep track of the validation loss and accuracy\n",
        "    running_loss = 0.0\n",
        "    running_corrects = 0\n",
        "\n",
        "    # Loop over the validation data in batches\n",
        "    for inputs, labels in valloader:\n",
        "        # Forward pass\n",
        "        outputs = model(inputs)\n",
        "        loss = criterion(outputs, labels)\n",
        "\n",
        "        # Update the validation loss and accuracy\n",
        "        _, preds = torch.max(outputs, 1)\n",
        "        running_loss += loss.item() * inputs.size(0)\n",
        "        running_corrects += torch.sum(preds == labels.data)\n",
        "\n",
        "    # Calculate the average validation loss and accuracy for this epoch\n",
        "    epoch_loss = running_loss / len(valloader.dataset)\n",
        "    epoch_acc = running_corrects.double() / len(valloader.dataset)\n",
        "\n",
        "    # Append the validation loss and accuracy to the lists\n",
        "    val_loss.append(epoch_loss)\n",
        "    val_acc.append(epoch_acc)\n",
        "\n",
        "    # Print the validation loss and accuracy\n",
        "    print(f\"Epoch {epoch+1}/{5} - Validation Loss: {epoch_loss:.4f}, Validation Accuracy: {epoch_acc:.4f}\")\n",
        "\n",
        "    # Save the model if it has the best validation accuracy so far\n",
        "    if epoch_acc > best_acc:\n",
        "        best_acc = epoch_acc\n",
        "        best_epoch = epoch\n",
        "        torch.save(model.state_dict(), 'best_model.pt')\n",
        "\n",
        "# Print the best validation accuracy and the corresponding epoch number\n",
        "print(f\"Best validation accuracy of {best_acc:.4f} at epoch {best_epoch+1}\")\n",
        "\n",
        "# Plot the training and validation loss and accuracy curves\n",
        "import matplotlib.pyplot as plt\n",
        "\n",
        "plt.figure(figsize=(10, 5))\n",
        "plt.subplot(1, 2, 1)\n",
        "plt.plot(train_loss, label='Training Loss')\n",
        "plt.plot(val_loss, label='Validation Loss')\n",
        "plt.legend()\n",
        "plt.xlabel('Epoch')\n",
        "plt.ylabel('Loss')\n",
        "plt.title('Training and Validation Loss')\n",
        "\n",
        "plt.subplot(1, 2, 2)\n",
        "plt.plot(train_acc, label='Training Accuracy')\n",
        "plt.plot(val_acc, label='Validation Accuracy')\n",
        "plt.legend()\n",
        "plt.xlabel('Epoch')\n",
        "plt.ylabel('Accuracy')\n",
        "plt.title('Training and Validation Accuracy')\n",
        "plt.show()"
      ],
      "metadata": {
        "colab": {
          "base_uri": "https://localhost:8080/",
          "height": 541
        },
        "id": "jDxU4Hm249-w",
        "outputId": "13908c67-a7ed-4496-e9e1-fe2473708797"
      },
      "execution_count": null,
      "outputs": [
        {
          "output_type": "stream",
          "name": "stdout",
          "text": [
            "Epoch 1/5 - Training Loss: 0.4144, Training Accuracy: 0.8689\n",
            "Epoch 1/5 - Validation Loss: 0.2254, Validation Accuracy: 0.9317\n",
            "Epoch 2/5 - Training Loss: 0.1878, Training Accuracy: 0.9410\n",
            "Epoch 2/5 - Validation Loss: 0.1712, Validation Accuracy: 0.9489\n",
            "Epoch 3/5 - Training Loss: 0.1521, Training Accuracy: 0.9524\n",
            "Epoch 3/5 - Validation Loss: 0.1758, Validation Accuracy: 0.9462\n",
            "Epoch 4/5 - Training Loss: 0.1338, Training Accuracy: 0.9580\n",
            "Epoch 4/5 - Validation Loss: 0.1615, Validation Accuracy: 0.9525\n",
            "Epoch 5/5 - Training Loss: 0.1191, Training Accuracy: 0.9626\n",
            "Epoch 5/5 - Validation Loss: 0.1404, Validation Accuracy: 0.9591\n",
            "Best validation accuracy of 0.9591 at epoch 5\n"
          ]
        },
        {
          "output_type": "display_data",
          "data": {
            "text/plain": [
              "<Figure size 720x360 with 2 Axes>"
            ],
            "image/png": "[encoded data removed]"
          },
          "metadata": {
            "needs_background": "light"
          }
        }
      ]
    },
    {
      "cell_type": "markdown",
      "source": [
        "#Q2"
      ],
      "metadata": {
        "id": "zfeFCxOJGRnc"
      }
    },
    {
      "cell_type": "code",
      "source": [
        "from google.colab import drive\n",
        "drive.mount('/content/drive')"
      ],
      "metadata": {
        "colab": {
          "base_uri": "https://localhost:8080/"
        },
        "id": "cWQ7oZr9s1my",
        "outputId": "29a56af6-bab1-416e-9a7b-b003bf7d10c8"
      },
      "execution_count": null,
      "outputs": [
        {
          "output_type": "stream",
          "name": "stdout",
          "text": [
            "Drive already mounted at /content/drive; to attempt to forcibly remount, call drive.mount(\"/content/drive\", force_remount=True).\n"
          ]
        }
      ]
    },
    {
      "cell_type": "code",
      "source": [
        "import numpy as np\n",
        "import pandas as pd\n",
        "import math\n",
        "from sklearn import preprocessing\n",
        "from sklearn.model_selection import train_test_split\n",
        "import matplotlib.pyplot as plt\n",
        "import seaborn as sns\n",
        "from sklearn.metrics import accuracy_score"
      ],
      "metadata": {
        "id": "6dftV9JvGvZK"
      },
      "execution_count": null,
      "outputs": []
    },
    {
      "cell_type": "code",
      "source": [
        "data=pd.read_csv(\"/content/abalone.data\")"
      ],
      "metadata": {
        "id": "YSSTw7r8G0DF"
      },
      "execution_count": null,
      "outputs": []
    },
    {
      "cell_type": "code",
      "source": [
        "data"
      ],
      "metadata": {
        "colab": {
          "base_uri": "https://localhost:8080/",
          "height": 423
        },
        "id": "hiXWPeQ3PLMv",
        "outputId": "90e1b5d2-af7e-4897-ea64-fa0ca421fe76"
      },
      "execution_count": null,
      "outputs": [
        {
          "output_type": "execute_result",
          "data": {
            "text/plain": [
              "      M  0.455  0.365  0.095   0.514  0.2245   0.101    0.15  15\n",
              "0     2  0.350  0.265  0.090  0.2255  0.0995  0.0485  0.0700   7\n",
              "1     0  0.530  0.420  0.135  0.6770  0.2565  0.1415  0.2100   9\n",
              "2     2  0.440  0.365  0.125  0.5160  0.2155  0.1140  0.1550  10\n",
              "3     1  0.330  0.255  0.080  0.2050  0.0895  0.0395  0.0550   7\n",
              "4     1  0.425  0.300  0.095  0.3515  0.1410  0.0775  0.1200   8\n",
              "...  ..    ...    ...    ...     ...     ...     ...     ...  ..\n",
              "4171  0  0.565  0.450  0.165  0.8870  0.3700  0.2390  0.2490  11\n",
              "4172  2  0.590  0.440  0.135  0.9660  0.4390  0.2145  0.2605  10\n",
              "4173  2  0.600  0.475  0.205  1.1760  0.5255  0.2875  0.3080   9\n",
              "4174  0  0.625  0.485  0.150  1.0945  0.5310  0.2610  0.2960  10\n",
              "4175  2  0.710  0.555  0.195  1.9485  0.9455  0.3765  0.4950  12\n",
              "\n",
              "[4176 rows x 9 columns]"
            ],
            "text/html": [
              "\n",
              "  <div id=\"df-bcf40c1e-c956-4059-8108-5f7b590cade4\">\n",
              "    <div class=\"colab-df-container\">\n",
              "      <div>\n",
              "<style scoped>\n",
              "    .dataframe tbody tr th:only-of-type {\n",
              "        vertical-align: middle;\n",
              "    }\n",
              "\n",
              "    .dataframe tbody tr th {\n",
              "        vertical-align: top;\n",
              "    }\n",
              "\n",
              "    .dataframe thead th {\n",
              "        text-align: right;\n",
              "    }\n",
              "</style>\n",
              "<table border=\"1\" class=\"dataframe\">\n",
              "  <thead>\n",
              "    <tr style=\"text-align: right;\">\n",
              "      <th></th>\n",
              "      <th>M</th>\n",
              "      <th>0.455</th>\n",
              "      <th>0.365</th>\n",
              "      <th>0.095</th>\n",
              "      <th>0.514</th>\n",
              "      <th>0.2245</th>\n",
              "      <th>0.101</th>\n",
              "      <th>0.15</th>\n",
              "      <th>15</th>\n",
              "    </tr>\n",
              "  </thead>\n",
              "  <tbody>\n",
              "    <tr>\n",
              "      <th>0</th>\n",
              "      <td>2</td>\n",
              "      <td>0.350</td>\n",
              "      <td>0.265</td>\n",
              "      <td>0.090</td>\n",
              "      <td>0.2255</td>\n",
              "      <td>0.0995</td>\n",
              "      <td>0.0485</td>\n",
              "      <td>0.0700</td>\n",
              "      <td>7</td>\n",
              "    </tr>\n",
              "    <tr>\n",
              "      <th>1</th>\n",
              "      <td>0</td>\n",
              "      <td>0.530</td>\n",
              "      <td>0.420</td>\n",
              "      <td>0.135</td>\n",
              "      <td>0.6770</td>\n",
              "      <td>0.2565</td>\n",
              "      <td>0.1415</td>\n",
              "      <td>0.2100</td>\n",
              "      <td>9</td>\n",
              "    </tr>\n",
              "    <tr>\n",
              "      <th>2</th>\n",
              "      <td>2</td>\n",
              "      <td>0.440</td>\n",
              "      <td>0.365</td>\n",
              "      <td>0.125</td>\n",
              "      <td>0.5160</td>\n",
              "      <td>0.2155</td>\n",
              "      <td>0.1140</td>\n",
              "      <td>0.1550</td>\n",
              "      <td>10</td>\n",
              "    </tr>\n",
              "    <tr>\n",
              "      <th>3</th>\n",
              "      <td>1</td>\n",
              "      <td>0.330</td>\n",
              "      <td>0.255</td>\n",
              "      <td>0.080</td>\n",
              "      <td>0.2050</td>\n",
              "      <td>0.0895</td>\n",
              "      <td>0.0395</td>\n",
              "      <td>0.0550</td>\n",
              "      <td>7</td>\n",
              "    </tr>\n",
              "    <tr>\n",
              "      <th>4</th>\n",
              "      <td>1</td>\n",
              "      <td>0.425</td>\n",
              "      <td>0.300</td>\n",
              "      <td>0.095</td>\n",
              "      <td>0.3515</td>\n",
              "      <td>0.1410</td>\n",
              "      <td>0.0775</td>\n",
              "      <td>0.1200</td>\n",
              "      <td>8</td>\n",
              "    </tr>\n",
              "    <tr>\n",
              "      <th>...</th>\n",
              "      <td>...</td>\n",
              "      <td>...</td>\n",
              "      <td>...</td>\n",
              "      <td>...</td>\n",
              "      <td>...</td>\n",
              "      <td>...</td>\n",
              "      <td>...</td>\n",
              "      <td>...</td>\n",
              "      <td>...</td>\n",
              "    </tr>\n",
              "    <tr>\n",
              "      <th>4171</th>\n",
              "      <td>0</td>\n",
              "      <td>0.565</td>\n",
              "      <td>0.450</td>\n",
              "      <td>0.165</td>\n",
              "      <td>0.8870</td>\n",
              "      <td>0.3700</td>\n",
              "      <td>0.2390</td>\n",
              "      <td>0.2490</td>\n",
              "      <td>11</td>\n",
              "    </tr>\n",
              "    <tr>\n",
              "      <th>4172</th>\n",
              "      <td>2</td>\n",
              "      <td>0.590</td>\n",
              "      <td>0.440</td>\n",
              "      <td>0.135</td>\n",
              "      <td>0.9660</td>\n",
              "      <td>0.4390</td>\n",
              "      <td>0.2145</td>\n",
              "      <td>0.2605</td>\n",
              "      <td>10</td>\n",
              "    </tr>\n",
              "    <tr>\n",
              "      <th>4173</th>\n",
              "      <td>2</td>\n",
              "      <td>0.600</td>\n",
              "      <td>0.475</td>\n",
              "      <td>0.205</td>\n",
              "      <td>1.1760</td>\n",
              "      <td>0.5255</td>\n",
              "      <td>0.2875</td>\n",
              "      <td>0.3080</td>\n",
              "      <td>9</td>\n",
              "    </tr>\n",
              "    <tr>\n",
              "      <th>4174</th>\n",
              "      <td>0</td>\n",
              "      <td>0.625</td>\n",
              "      <td>0.485</td>\n",
              "      <td>0.150</td>\n",
              "      <td>1.0945</td>\n",
              "      <td>0.5310</td>\n",
              "      <td>0.2610</td>\n",
              "      <td>0.2960</td>\n",
              "      <td>10</td>\n",
              "    </tr>\n",
              "    <tr>\n",
              "      <th>4175</th>\n",
              "      <td>2</td>\n",
              "      <td>0.710</td>\n",
              "      <td>0.555</td>\n",
              "      <td>0.195</td>\n",
              "      <td>1.9485</td>\n",
              "      <td>0.9455</td>\n",
              "      <td>0.3765</td>\n",
              "      <td>0.4950</td>\n",
              "      <td>12</td>\n",
              "    </tr>\n",
              "  </tbody>\n",
              "</table>\n",
              "<p>4176 rows × 9 columns</p>\n",
              "</div>\n",
              "      <button class=\"colab-df-convert\" onclick=\"convertToInteractive('df-bcf40c1e-c956-4059-8108-5f7b590cade4')\"\n",
              "              title=\"Convert this dataframe to an interactive table.\"\n",
              "              style=\"display:none;\">\n",
              "        \n",
              "  <svg xmlns=\"http://www.w3.org/2000/svg\" height=\"24px\"viewBox=\"0 0 24 24\"\n",
              "       width=\"24px\">\n",
              "    <path d=\"M0 0h24v24H0V0z\" fill=\"none\"/>\n",
              "    <path d=\"M18.56 5.44l.94 2.06.94-2.06 2.06-.94-2.06-.94-.94-2.06-.94 2.06-2.06.94zm-11 1L8.5 8.5l.94-2.06 2.06-.94-2.06-.94L8.5 2.5l-.94 2.06-2.06.94zm10 10l.94 2.06.94-2.06 2.06-.94-2.06-.94-.94-2.06-.94 2.06-2.06.94z\"/><path d=\"M17.41 7.96l-1.37-1.37c-.4-.4-.92-.59-1.43-.59-.52 0-1.04.2-1.43.59L10.3 9.45l-7.72 7.72c-.78.78-.78 2.05 0 2.83L4 21.41c.39.39.9.59 1.41.59.51 0 1.02-.2 1.41-.59l7.78-7.78 2.81-2.81c.8-.78.8-2.07 0-2.86zM5.41 20L4 18.59l7.72-7.72 1.47 1.35L5.41 20z\"/>\n",
              "  </svg>\n",
              "      </button>\n",
              "      \n",
              "  <style>\n",
              "    .colab-df-container {\n",
              "      display:flex;\n",
              "      flex-wrap:wrap;\n",
              "      gap: 12px;\n",
              "    }\n",
              "\n",
              "    .colab-df-convert {\n",
              "      background-color: #E8F0FE;\n",
              "      border: none;\n",
              "      border-radius: 50%;\n",
              "      cursor: pointer;\n",
              "      display: none;\n",
              "      fill: #1967D2;\n",
              "      height: 32px;\n",
              "      padding: 0 0 0 0;\n",
              "      width: 32px;\n",
              "    }\n",
              "\n",
              "    .colab-df-convert:hover {\n",
              "      background-color: #E2EBFA;\n",
              "      box-shadow: 0px 1px 2px rgba(60, 64, 67, 0.3), 0px 1px 3px 1px rgba(60, 64, 67, 0.15);\n",
              "      fill: #174EA6;\n",
              "    }\n",
              "\n",
              "    [theme=dark] .colab-df-convert {\n",
              "      background-color: #3B4455;\n",
              "      fill: #D2E3FC;\n",
              "    }\n",
              "\n",
              "    [theme=dark] .colab-df-convert:hover {\n",
              "      background-color: #434B5C;\n",
              "      box-shadow: 0px 1px 3px 1px rgba(0, 0, 0, 0.15);\n",
              "      filter: drop-shadow(0px 1px 2px rgba(0, 0, 0, 0.3));\n",
              "      fill: #FFFFFF;\n",
              "    }\n",
              "  </style>\n",
              "\n",
              "      <script>\n",
              "        const buttonEl =\n",
              "          document.querySelector('#df-bcf40c1e-c956-4059-8108-5f7b590cade4 button.colab-df-convert');\n",
              "        buttonEl.style.display =\n",
              "          google.colab.kernel.accessAllowed ? 'block' : 'none';\n",
              "\n",
              "        async function convertToInteractive(key) {\n",
              "          const element = document.querySelector('#df-bcf40c1e-c956-4059-8108-5f7b590cade4');\n",
              "          const dataTable =\n",
              "            await google.colab.kernel.invokeFunction('convertToInteractive',\n",
              "                                                     [key], {});\n",
              "          if (!dataTable) return;\n",
              "\n",
              "          const docLinkHtml = 'Like what you see? Visit the ' +\n",
              "            '<a target=\"_blank\" href=https://colab.research.google.com/notebooks/data_table.ipynb>data table notebook</a>'\n",
              "            + ' to learn more about interactive tables.';\n",
              "          element.innerHTML = '';\n",
              "          dataTable['output_type'] = 'display_data';\n",
              "          await google.colab.output.renderOutput(dataTable, element);\n",
              "          const docLink = document.createElement('div');\n",
              "          docLink.innerHTML = docLinkHtml;\n",
              "          element.appendChild(docLink);\n",
              "        }\n",
              "      </script>\n",
              "    </div>\n",
              "  </div>\n",
              "  "
            ]
          },
          "metadata": {},
          "execution_count": 45
        }
      ]
    },
    {
      "cell_type": "markdown",
      "source": [
        "pre-proccessing"
      ],
      "metadata": {
        "id": "nIDju7GyWtos"
      }
    },
    {
      "cell_type": "code",
      "source": [
        "le = preprocessing.LabelEncoder()\n",
        "data['M']=le.fit_transform(data['M'])"
      ],
      "metadata": {
        "id": "YWZwwSuqPNDt"
      },
      "execution_count": null,
      "outputs": []
    },
    {
      "cell_type": "code",
      "source": [
        "data"
      ],
      "metadata": {
        "colab": {
          "base_uri": "https://localhost:8080/",
          "height": 423
        },
        "id": "h0JhqZJGPvv6",
        "outputId": "b9931822-94d0-49a5-f318-647249c657da"
      },
      "execution_count": null,
      "outputs": [
        {
          "output_type": "execute_result",
          "data": {
            "text/plain": [
              "      M  0.455  0.365  0.095   0.514  0.2245   0.101    0.15  15\n",
              "0     2  0.350  0.265  0.090  0.2255  0.0995  0.0485  0.0700   7\n",
              "1     0  0.530  0.420  0.135  0.6770  0.2565  0.1415  0.2100   9\n",
              "2     2  0.440  0.365  0.125  0.5160  0.2155  0.1140  0.1550  10\n",
              "3     1  0.330  0.255  0.080  0.2050  0.0895  0.0395  0.0550   7\n",
              "4     1  0.425  0.300  0.095  0.3515  0.1410  0.0775  0.1200   8\n",
              "...  ..    ...    ...    ...     ...     ...     ...     ...  ..\n",
              "4171  0  0.565  0.450  0.165  0.8870  0.3700  0.2390  0.2490  11\n",
              "4172  2  0.590  0.440  0.135  0.9660  0.4390  0.2145  0.2605  10\n",
              "4173  2  0.600  0.475  0.205  1.1760  0.5255  0.2875  0.3080   9\n",
              "4174  0  0.625  0.485  0.150  1.0945  0.5310  0.2610  0.2960  10\n",
              "4175  2  0.710  0.555  0.195  1.9485  0.9455  0.3765  0.4950  12\n",
              "\n",
              "[4176 rows x 9 columns]"
            ],
            "text/html": [
              "\n",
              "  <div id=\"df-2248810f-d081-456b-968d-af08f1ab2aa1\">\n",
              "    <div class=\"colab-df-container\">\n",
              "      <div>\n",
              "<style scoped>\n",
              "    .dataframe tbody tr th:only-of-type {\n",
              "        vertical-align: middle;\n",
              "    }\n",
              "\n",
              "    .dataframe tbody tr th {\n",
              "        vertical-align: top;\n",
              "    }\n",
              "\n",
              "    .dataframe thead th {\n",
              "        text-align: right;\n",
              "    }\n",
              "</style>\n",
              "<table border=\"1\" class=\"dataframe\">\n",
              "  <thead>\n",
              "    <tr style=\"text-align: right;\">\n",
              "      <th></th>\n",
              "      <th>M</th>\n",
              "      <th>0.455</th>\n",
              "      <th>0.365</th>\n",
              "      <th>0.095</th>\n",
              "      <th>0.514</th>\n",
              "      <th>0.2245</th>\n",
              "      <th>0.101</th>\n",
              "      <th>0.15</th>\n",
              "      <th>15</th>\n",
              "    </tr>\n",
              "  </thead>\n",
              "  <tbody>\n",
              "    <tr>\n",
              "      <th>0</th>\n",
              "      <td>2</td>\n",
              "      <td>0.350</td>\n",
              "      <td>0.265</td>\n",
              "      <td>0.090</td>\n",
              "      <td>0.2255</td>\n",
              "      <td>0.0995</td>\n",
              "      <td>0.0485</td>\n",
              "      <td>0.0700</td>\n",
              "      <td>7</td>\n",
              "    </tr>\n",
              "    <tr>\n",
              "      <th>1</th>\n",
              "      <td>0</td>\n",
              "      <td>0.530</td>\n",
              "      <td>0.420</td>\n",
              "      <td>0.135</td>\n",
              "      <td>0.6770</td>\n",
              "      <td>0.2565</td>\n",
              "      <td>0.1415</td>\n",
              "      <td>0.2100</td>\n",
              "      <td>9</td>\n",
              "    </tr>\n",
              "    <tr>\n",
              "      <th>2</th>\n",
              "      <td>2</td>\n",
              "      <td>0.440</td>\n",
              "      <td>0.365</td>\n",
              "      <td>0.125</td>\n",
              "      <td>0.5160</td>\n",
              "      <td>0.2155</td>\n",
              "      <td>0.1140</td>\n",
              "      <td>0.1550</td>\n",
              "      <td>10</td>\n",
              "    </tr>\n",
              "    <tr>\n",
              "      <th>3</th>\n",
              "      <td>1</td>\n",
              "      <td>0.330</td>\n",
              "      <td>0.255</td>\n",
              "      <td>0.080</td>\n",
              "      <td>0.2050</td>\n",
              "      <td>0.0895</td>\n",
              "      <td>0.0395</td>\n",
              "      <td>0.0550</td>\n",
              "      <td>7</td>\n",
              "    </tr>\n",
              "    <tr>\n",
              "      <th>4</th>\n",
              "      <td>1</td>\n",
              "      <td>0.425</td>\n",
              "      <td>0.300</td>\n",
              "      <td>0.095</td>\n",
              "      <td>0.3515</td>\n",
              "      <td>0.1410</td>\n",
              "      <td>0.0775</td>\n",
              "      <td>0.1200</td>\n",
              "      <td>8</td>\n",
              "    </tr>\n",
              "    <tr>\n",
              "      <th>...</th>\n",
              "      <td>...</td>\n",
              "      <td>...</td>\n",
              "      <td>...</td>\n",
              "      <td>...</td>\n",
              "      <td>...</td>\n",
              "      <td>...</td>\n",
              "      <td>...</td>\n",
              "      <td>...</td>\n",
              "      <td>...</td>\n",
              "    </tr>\n",
              "    <tr>\n",
              "      <th>4171</th>\n",
              "      <td>0</td>\n",
              "      <td>0.565</td>\n",
              "      <td>0.450</td>\n",
              "      <td>0.165</td>\n",
              "      <td>0.8870</td>\n",
              "      <td>0.3700</td>\n",
              "      <td>0.2390</td>\n",
              "      <td>0.2490</td>\n",
              "      <td>11</td>\n",
              "    </tr>\n",
              "    <tr>\n",
              "      <th>4172</th>\n",
              "      <td>2</td>\n",
              "      <td>0.590</td>\n",
              "      <td>0.440</td>\n",
              "      <td>0.135</td>\n",
              "      <td>0.9660</td>\n",
              "      <td>0.4390</td>\n",
              "      <td>0.2145</td>\n",
              "      <td>0.2605</td>\n",
              "      <td>10</td>\n",
              "    </tr>\n",
              "    <tr>\n",
              "      <th>4173</th>\n",
              "      <td>2</td>\n",
              "      <td>0.600</td>\n",
              "      <td>0.475</td>\n",
              "      <td>0.205</td>\n",
              "      <td>1.1760</td>\n",
              "      <td>0.5255</td>\n",
              "      <td>0.2875</td>\n",
              "      <td>0.3080</td>\n",
              "      <td>9</td>\n",
              "    </tr>\n",
              "    <tr>\n",
              "      <th>4174</th>\n",
              "      <td>0</td>\n",
              "      <td>0.625</td>\n",
              "      <td>0.485</td>\n",
              "      <td>0.150</td>\n",
              "      <td>1.0945</td>\n",
              "      <td>0.5310</td>\n",
              "      <td>0.2610</td>\n",
              "      <td>0.2960</td>\n",
              "      <td>10</td>\n",
              "    </tr>\n",
              "    <tr>\n",
              "      <th>4175</th>\n",
              "      <td>2</td>\n",
              "      <td>0.710</td>\n",
              "      <td>0.555</td>\n",
              "      <td>0.195</td>\n",
              "      <td>1.9485</td>\n",
              "      <td>0.9455</td>\n",
              "      <td>0.3765</td>\n",
              "      <td>0.4950</td>\n",
              "      <td>12</td>\n",
              "    </tr>\n",
              "  </tbody>\n",
              "</table>\n",
              "<p>4176 rows × 9 columns</p>\n",
              "</div>\n",
              "      <button class=\"colab-df-convert\" onclick=\"convertToInteractive('df-2248810f-d081-456b-968d-af08f1ab2aa1')\"\n",
              "              title=\"Convert this dataframe to an interactive table.\"\n",
              "              style=\"display:none;\">\n",
              "        \n",
              "  <svg xmlns=\"http://www.w3.org/2000/svg\" height=\"24px\"viewBox=\"0 0 24 24\"\n",
              "       width=\"24px\">\n",
              "    <path d=\"M0 0h24v24H0V0z\" fill=\"none\"/>\n",
              "    <path d=\"M18.56 5.44l.94 2.06.94-2.06 2.06-.94-2.06-.94-.94-2.06-.94 2.06-2.06.94zm-11 1L8.5 8.5l.94-2.06 2.06-.94-2.06-.94L8.5 2.5l-.94 2.06-2.06.94zm10 10l.94 2.06.94-2.06 2.06-.94-2.06-.94-.94-2.06-.94 2.06-2.06.94z\"/><path d=\"M17.41 7.96l-1.37-1.37c-.4-.4-.92-.59-1.43-.59-.52 0-1.04.2-1.43.59L10.3 9.45l-7.72 7.72c-.78.78-.78 2.05 0 2.83L4 21.41c.39.39.9.59 1.41.59.51 0 1.02-.2 1.41-.59l7.78-7.78 2.81-2.81c.8-.78.8-2.07 0-2.86zM5.41 20L4 18.59l7.72-7.72 1.47 1.35L5.41 20z\"/>\n",
              "  </svg>\n",
              "      </button>\n",
              "      \n",
              "  <style>\n",
              "    .colab-df-container {\n",
              "      display:flex;\n",
              "      flex-wrap:wrap;\n",
              "      gap: 12px;\n",
              "    }\n",
              "\n",
              "    .colab-df-convert {\n",
              "      background-color: #E8F0FE;\n",
              "      border: none;\n",
              "      border-radius: 50%;\n",
              "      cursor: pointer;\n",
              "      display: none;\n",
              "      fill: #1967D2;\n",
              "      height: 32px;\n",
              "      padding: 0 0 0 0;\n",
              "      width: 32px;\n",
              "    }\n",
              "\n",
              "    .colab-df-convert:hover {\n",
              "      background-color: #E2EBFA;\n",
              "      box-shadow: 0px 1px 2px rgba(60, 64, 67, 0.3), 0px 1px 3px 1px rgba(60, 64, 67, 0.15);\n",
              "      fill: #174EA6;\n",
              "    }\n",
              "\n",
              "    [theme=dark] .colab-df-convert {\n",
              "      background-color: #3B4455;\n",
              "      fill: #D2E3FC;\n",
              "    }\n",
              "\n",
              "    [theme=dark] .colab-df-convert:hover {\n",
              "      background-color: #434B5C;\n",
              "      box-shadow: 0px 1px 3px 1px rgba(0, 0, 0, 0.15);\n",
              "      filter: drop-shadow(0px 1px 2px rgba(0, 0, 0, 0.3));\n",
              "      fill: #FFFFFF;\n",
              "    }\n",
              "  </style>\n",
              "\n",
              "      <script>\n",
              "        const buttonEl =\n",
              "          document.querySelector('#df-2248810f-d081-456b-968d-af08f1ab2aa1 button.colab-df-convert');\n",
              "        buttonEl.style.display =\n",
              "          google.colab.kernel.accessAllowed ? 'block' : 'none';\n",
              "\n",
              "        async function convertToInteractive(key) {\n",
              "          const element = document.querySelector('#df-2248810f-d081-456b-968d-af08f1ab2aa1');\n",
              "          const dataTable =\n",
              "            await google.colab.kernel.invokeFunction('convertToInteractive',\n",
              "                                                     [key], {});\n",
              "          if (!dataTable) return;\n",
              "\n",
              "          const docLinkHtml = 'Like what you see? Visit the ' +\n",
              "            '<a target=\"_blank\" href=https://colab.research.google.com/notebooks/data_table.ipynb>data table notebook</a>'\n",
              "            + ' to learn more about interactive tables.';\n",
              "          element.innerHTML = '';\n",
              "          dataTable['output_type'] = 'display_data';\n",
              "          await google.colab.output.renderOutput(dataTable, element);\n",
              "          const docLink = document.createElement('div');\n",
              "          docLink.innerHTML = docLinkHtml;\n",
              "          element.appendChild(docLink);\n",
              "        }\n",
              "      </script>\n",
              "    </div>\n",
              "  </div>\n",
              "  "
            ]
          },
          "metadata": {},
          "execution_count": 47
        }
      ]
    },
    {
      "cell_type": "code",
      "source": [
        "y=data['15']\n",
        "x=data.drop(['15'],axis=1)"
      ],
      "metadata": {
        "id": "1lTYU1NwG8l2"
      },
      "execution_count": null,
      "outputs": []
    },
    {
      "cell_type": "code",
      "source": [
        "x"
      ],
      "metadata": {
        "colab": {
          "base_uri": "https://localhost:8080/",
          "height": 423
        },
        "id": "Dnz2ilv9PHJh",
        "outputId": "35ae58a0-057f-4b19-bcbe-acc03493129e"
      },
      "execution_count": null,
      "outputs": [
        {
          "output_type": "execute_result",
          "data": {
            "text/plain": [
              "      M  0.455  0.365  0.095   0.514  0.2245   0.101    0.15\n",
              "0     2  0.350  0.265  0.090  0.2255  0.0995  0.0485  0.0700\n",
              "1     0  0.530  0.420  0.135  0.6770  0.2565  0.1415  0.2100\n",
              "2     2  0.440  0.365  0.125  0.5160  0.2155  0.1140  0.1550\n",
              "3     1  0.330  0.255  0.080  0.2050  0.0895  0.0395  0.0550\n",
              "4     1  0.425  0.300  0.095  0.3515  0.1410  0.0775  0.1200\n",
              "...  ..    ...    ...    ...     ...     ...     ...     ...\n",
              "4171  0  0.565  0.450  0.165  0.8870  0.3700  0.2390  0.2490\n",
              "4172  2  0.590  0.440  0.135  0.9660  0.4390  0.2145  0.2605\n",
              "4173  2  0.600  0.475  0.205  1.1760  0.5255  0.2875  0.3080\n",
              "4174  0  0.625  0.485  0.150  1.0945  0.5310  0.2610  0.2960\n",
              "4175  2  0.710  0.555  0.195  1.9485  0.9455  0.3765  0.4950\n",
              "\n",
              "[4176 rows x 8 columns]"
            ],
            "text/html": [
              "\n",
              "  <div id=\"df-185dda90-ef54-40ae-8a86-239521ba9ac8\">\n",
              "    <div class=\"colab-df-container\">\n",
              "      <div>\n",
              "<style scoped>\n",
              "    .dataframe tbody tr th:only-of-type {\n",
              "        vertical-align: middle;\n",
              "    }\n",
              "\n",
              "    .dataframe tbody tr th {\n",
              "        vertical-align: top;\n",
              "    }\n",
              "\n",
              "    .dataframe thead th {\n",
              "        text-align: right;\n",
              "    }\n",
              "</style>\n",
              "<table border=\"1\" class=\"dataframe\">\n",
              "  <thead>\n",
              "    <tr style=\"text-align: right;\">\n",
              "      <th></th>\n",
              "      <th>M</th>\n",
              "      <th>0.455</th>\n",
              "      <th>0.365</th>\n",
              "      <th>0.095</th>\n",
              "      <th>0.514</th>\n",
              "      <th>0.2245</th>\n",
              "      <th>0.101</th>\n",
              "      <th>0.15</th>\n",
              "    </tr>\n",
              "  </thead>\n",
              "  <tbody>\n",
              "    <tr>\n",
              "      <th>0</th>\n",
              "      <td>2</td>\n",
              "      <td>0.350</td>\n",
              "      <td>0.265</td>\n",
              "      <td>0.090</td>\n",
              "      <td>0.2255</td>\n",
              "      <td>0.0995</td>\n",
              "      <td>0.0485</td>\n",
              "      <td>0.0700</td>\n",
              "    </tr>\n",
              "    <tr>\n",
              "      <th>1</th>\n",
              "      <td>0</td>\n",
              "      <td>0.530</td>\n",
              "      <td>0.420</td>\n",
              "      <td>0.135</td>\n",
              "      <td>0.6770</td>\n",
              "      <td>0.2565</td>\n",
              "      <td>0.1415</td>\n",
              "      <td>0.2100</td>\n",
              "    </tr>\n",
              "    <tr>\n",
              "      <th>2</th>\n",
              "      <td>2</td>\n",
              "      <td>0.440</td>\n",
              "      <td>0.365</td>\n",
              "      <td>0.125</td>\n",
              "      <td>0.5160</td>\n",
              "      <td>0.2155</td>\n",
              "      <td>0.1140</td>\n",
              "      <td>0.1550</td>\n",
              "    </tr>\n",
              "    <tr>\n",
              "      <th>3</th>\n",
              "      <td>1</td>\n",
              "      <td>0.330</td>\n",
              "      <td>0.255</td>\n",
              "      <td>0.080</td>\n",
              "      <td>0.2050</td>\n",
              "      <td>0.0895</td>\n",
              "      <td>0.0395</td>\n",
              "      <td>0.0550</td>\n",
              "    </tr>\n",
              "    <tr>\n",
              "      <th>4</th>\n",
              "      <td>1</td>\n",
              "      <td>0.425</td>\n",
              "      <td>0.300</td>\n",
              "      <td>0.095</td>\n",
              "      <td>0.3515</td>\n",
              "      <td>0.1410</td>\n",
              "      <td>0.0775</td>\n",
              "      <td>0.1200</td>\n",
              "    </tr>\n",
              "    <tr>\n",
              "      <th>...</th>\n",
              "      <td>...</td>\n",
              "      <td>...</td>\n",
              "      <td>...</td>\n",
              "      <td>...</td>\n",
              "      <td>...</td>\n",
              "      <td>...</td>\n",
              "      <td>...</td>\n",
              "      <td>...</td>\n",
              "    </tr>\n",
              "    <tr>\n",
              "      <th>4171</th>\n",
              "      <td>0</td>\n",
              "      <td>0.565</td>\n",
              "      <td>0.450</td>\n",
              "      <td>0.165</td>\n",
              "      <td>0.8870</td>\n",
              "      <td>0.3700</td>\n",
              "      <td>0.2390</td>\n",
              "      <td>0.2490</td>\n",
              "    </tr>\n",
              "    <tr>\n",
              "      <th>4172</th>\n",
              "      <td>2</td>\n",
              "      <td>0.590</td>\n",
              "      <td>0.440</td>\n",
              "      <td>0.135</td>\n",
              "      <td>0.9660</td>\n",
              "      <td>0.4390</td>\n",
              "      <td>0.2145</td>\n",
              "      <td>0.2605</td>\n",
              "    </tr>\n",
              "    <tr>\n",
              "      <th>4173</th>\n",
              "      <td>2</td>\n",
              "      <td>0.600</td>\n",
              "      <td>0.475</td>\n",
              "      <td>0.205</td>\n",
              "      <td>1.1760</td>\n",
              "      <td>0.5255</td>\n",
              "      <td>0.2875</td>\n",
              "      <td>0.3080</td>\n",
              "    </tr>\n",
              "    <tr>\n",
              "      <th>4174</th>\n",
              "      <td>0</td>\n",
              "      <td>0.625</td>\n",
              "      <td>0.485</td>\n",
              "      <td>0.150</td>\n",
              "      <td>1.0945</td>\n",
              "      <td>0.5310</td>\n",
              "      <td>0.2610</td>\n",
              "      <td>0.2960</td>\n",
              "    </tr>\n",
              "    <tr>\n",
              "      <th>4175</th>\n",
              "      <td>2</td>\n",
              "      <td>0.710</td>\n",
              "      <td>0.555</td>\n",
              "      <td>0.195</td>\n",
              "      <td>1.9485</td>\n",
              "      <td>0.9455</td>\n",
              "      <td>0.3765</td>\n",
              "      <td>0.4950</td>\n",
              "    </tr>\n",
              "  </tbody>\n",
              "</table>\n",
              "<p>4176 rows × 8 columns</p>\n",
              "</div>\n",
              "      <button class=\"colab-df-convert\" onclick=\"convertToInteractive('df-185dda90-ef54-40ae-8a86-239521ba9ac8')\"\n",
              "              title=\"Convert this dataframe to an interactive table.\"\n",
              "              style=\"display:none;\">\n",
              "        \n",
              "  <svg xmlns=\"http://www.w3.org/2000/svg\" height=\"24px\"viewBox=\"0 0 24 24\"\n",
              "       width=\"24px\">\n",
              "    <path d=\"M0 0h24v24H0V0z\" fill=\"none\"/>\n",
              "    <path d=\"M18.56 5.44l.94 2.06.94-2.06 2.06-.94-2.06-.94-.94-2.06-.94 2.06-2.06.94zm-11 1L8.5 8.5l.94-2.06 2.06-.94-2.06-.94L8.5 2.5l-.94 2.06-2.06.94zm10 10l.94 2.06.94-2.06 2.06-.94-2.06-.94-.94-2.06-.94 2.06-2.06.94z\"/><path d=\"M17.41 7.96l-1.37-1.37c-.4-.4-.92-.59-1.43-.59-.52 0-1.04.2-1.43.59L10.3 9.45l-7.72 7.72c-.78.78-.78 2.05 0 2.83L4 21.41c.39.39.9.59 1.41.59.51 0 1.02-.2 1.41-.59l7.78-7.78 2.81-2.81c.8-.78.8-2.07 0-2.86zM5.41 20L4 18.59l7.72-7.72 1.47 1.35L5.41 20z\"/>\n",
              "  </svg>\n",
              "      </button>\n",
              "      \n",
              "  <style>\n",
              "    .colab-df-container {\n",
              "      display:flex;\n",
              "      flex-wrap:wrap;\n",
              "      gap: 12px;\n",
              "    }\n",
              "\n",
              "    .colab-df-convert {\n",
              "      background-color: #E8F0FE;\n",
              "      border: none;\n",
              "      border-radius: 50%;\n",
              "      cursor: pointer;\n",
              "      display: none;\n",
              "      fill: #1967D2;\n",
              "      height: 32px;\n",
              "      padding: 0 0 0 0;\n",
              "      width: 32px;\n",
              "    }\n",
              "\n",
              "    .colab-df-convert:hover {\n",
              "      background-color: #E2EBFA;\n",
              "      box-shadow: 0px 1px 2px rgba(60, 64, 67, 0.3), 0px 1px 3px 1px rgba(60, 64, 67, 0.15);\n",
              "      fill: #174EA6;\n",
              "    }\n",
              "\n",
              "    [theme=dark] .colab-df-convert {\n",
              "      background-color: #3B4455;\n",
              "      fill: #D2E3FC;\n",
              "    }\n",
              "\n",
              "    [theme=dark] .colab-df-convert:hover {\n",
              "      background-color: #434B5C;\n",
              "      box-shadow: 0px 1px 3px 1px rgba(0, 0, 0, 0.15);\n",
              "      filter: drop-shadow(0px 1px 2px rgba(0, 0, 0, 0.3));\n",
              "      fill: #FFFFFF;\n",
              "    }\n",
              "  </style>\n",
              "\n",
              "      <script>\n",
              "        const buttonEl =\n",
              "          document.querySelector('#df-185dda90-ef54-40ae-8a86-239521ba9ac8 button.colab-df-convert');\n",
              "        buttonEl.style.display =\n",
              "          google.colab.kernel.accessAllowed ? 'block' : 'none';\n",
              "\n",
              "        async function convertToInteractive(key) {\n",
              "          const element = document.querySelector('#df-185dda90-ef54-40ae-8a86-239521ba9ac8');\n",
              "          const dataTable =\n",
              "            await google.colab.kernel.invokeFunction('convertToInteractive',\n",
              "                                                     [key], {});\n",
              "          if (!dataTable) return;\n",
              "\n",
              "          const docLinkHtml = 'Like what you see? Visit the ' +\n",
              "            '<a target=\"_blank\" href=https://colab.research.google.com/notebooks/data_table.ipynb>data table notebook</a>'\n",
              "            + ' to learn more about interactive tables.';\n",
              "          element.innerHTML = '';\n",
              "          dataTable['output_type'] = 'display_data';\n",
              "          await google.colab.output.renderOutput(dataTable, element);\n",
              "          const docLink = document.createElement('div');\n",
              "          docLink.innerHTML = docLinkHtml;\n",
              "          element.appendChild(docLink);\n",
              "        }\n",
              "      </script>\n",
              "    </div>\n",
              "  </div>\n",
              "  "
            ]
          },
          "metadata": {},
          "execution_count": 49
        }
      ]
    },
    {
      "cell_type": "code",
      "source": [
        "y=np.array(y)\n",
        "x=np.array(x)"
      ],
      "metadata": {
        "id": "TkCgzgapHuDA"
      },
      "execution_count": null,
      "outputs": []
    },
    {
      "cell_type": "code",
      "source": [
        "np.unique(y)"
      ],
      "metadata": {
        "colab": {
          "base_uri": "https://localhost:8080/"
        },
        "id": "4atBPec76gud",
        "outputId": "a3b43f0d-810c-4d73-c6d1-d7d3712edb30"
      },
      "execution_count": null,
      "outputs": [
        {
          "output_type": "execute_result",
          "data": {
            "text/plain": [
              "array([ 1,  2,  3,  4,  5,  6,  7,  8,  9, 10, 11, 12, 13, 14, 15, 16, 17,\n",
              "       18, 19, 20, 21, 22, 23, 24, 25, 26, 27, 29])"
            ]
          },
          "metadata": {},
          "execution_count": 51
        }
      ]
    },
    {
      "cell_type": "code",
      "source": [
        "freq=np.zeros(30)\n",
        "for i in y:\n",
        "  freq[i]+=1\n",
        "for i in np.unique(y):\n",
        "  print(\"count of class\",i,\"=\",freq[i])"
      ],
      "metadata": {
        "colab": {
          "base_uri": "https://localhost:8080/"
        },
        "id": "sP7z7FkK7I51",
        "outputId": "9f0bbd00-bded-4706-8982-d6bb954382e4"
      },
      "execution_count": null,
      "outputs": [
        {
          "output_type": "stream",
          "name": "stdout",
          "text": [
            "count of class 1 = 1.0\n",
            "count of class 2 = 1.0\n",
            "count of class 3 = 15.0\n",
            "count of class 4 = 57.0\n",
            "count of class 5 = 115.0\n",
            "count of class 6 = 259.0\n",
            "count of class 7 = 391.0\n",
            "count of class 8 = 568.0\n",
            "count of class 9 = 689.0\n",
            "count of class 10 = 634.0\n",
            "count of class 11 = 487.0\n",
            "count of class 12 = 267.0\n",
            "count of class 13 = 203.0\n",
            "count of class 14 = 126.0\n",
            "count of class 15 = 102.0\n",
            "count of class 16 = 67.0\n",
            "count of class 17 = 58.0\n",
            "count of class 18 = 42.0\n",
            "count of class 19 = 32.0\n",
            "count of class 20 = 26.0\n",
            "count of class 21 = 14.0\n",
            "count of class 22 = 6.0\n",
            "count of class 23 = 9.0\n",
            "count of class 24 = 2.0\n",
            "count of class 25 = 1.0\n",
            "count of class 26 = 1.0\n",
            "count of class 27 = 2.0\n",
            "count of class 29 = 1.0\n"
          ]
        }
      ]
    },
    {
      "cell_type": "code",
      "source": [
        "plt.figure()\n",
        "sns.histplot(y)\n",
        "plt.xlabel(\"class\")"
      ],
      "metadata": {
        "colab": {
          "base_uri": "https://localhost:8080/",
          "height": 466
        },
        "id": "LFD22lY8BhzP",
        "outputId": "3254c4c8-2dce-40d5-8676-ed848a6b0e84"
      },
      "execution_count": null,
      "outputs": [
        {
          "output_type": "execute_result",
          "data": {
            "text/plain": [
              "Text(0.5, 0, 'class')"
            ]
          },
          "metadata": {},
          "execution_count": 53
        },
        {
          "output_type": "display_data",
          "data": {
            "text/plain": [
              "<Figure size 640x480 with 1 Axes>"
            ],
            "image/png": "[encoded data removed]"
          },
          "metadata": {}
        }
      ]
    },
    {
      "cell_type": "markdown",
      "source": [
        "binning the dataset"
      ],
      "metadata": {
        "id": "fQ5zOhoqW0ys"
      }
    },
    {
      "cell_type": "code",
      "source": [
        "for i in range(len(y)):\n",
        "  if(y[i] <  9):\n",
        "    y[i]=0\n",
        "  elif(y[i]<11):\n",
        "    y[i]=1\n",
        "  else:\n",
        "    y[i]=2"
      ],
      "metadata": {
        "id": "okWVe4q28CU5"
      },
      "execution_count": null,
      "outputs": []
    },
    {
      "cell_type": "code",
      "source": [
        "freq=np.zeros(30)\n",
        "for i in y:\n",
        "  freq[i]+=1\n",
        "for i in np.unique(y):\n",
        "  print(\"count of class\",i,\"=\",freq[i])"
      ],
      "metadata": {
        "colab": {
          "base_uri": "https://localhost:8080/"
        },
        "id": "iQsHFsQB9IWZ",
        "outputId": "67a6526f-4926-48ff-f647-eabdbad78e33"
      },
      "execution_count": null,
      "outputs": [
        {
          "output_type": "stream",
          "name": "stdout",
          "text": [
            "count of class 0 = 1407.0\n",
            "count of class 1 = 1323.0\n",
            "count of class 2 = 1446.0\n"
          ]
        }
      ]
    },
    {
      "cell_type": "code",
      "source": [
        "x_train,x_test,y_train,y_test=train_test_split(x,y,test_size=0.3)"
      ],
      "metadata": {
        "id": "zY6MuPc68NJx"
      },
      "execution_count": null,
      "outputs": []
    },
    {
      "cell_type": "code",
      "source": [
        "x_train=x_train.T"
      ],
      "metadata": {
        "id": "9sa0uTT18wZG"
      },
      "execution_count": null,
      "outputs": []
    },
    {
      "cell_type": "code",
      "source": [
        "x_test=x_test.T"
      ],
      "metadata": {
        "id": "yM_s7kWf9c1Y"
      },
      "execution_count": null,
      "outputs": []
    },
    {
      "cell_type": "markdown",
      "source": [
        "Multi Layer Perceptron from scratch"
      ],
      "metadata": {
        "id": "pStZOYc2W5Tp"
      }
    },
    {
      "cell_type": "code",
      "source": [
        "class MLP():\n",
        "  def __init__(self,iters,learning_rate,n_nodes,weights,activation_function):\n",
        "    self.iters=iters\n",
        "    self.a=learning_rate\n",
        "    self.m=n_nodes\n",
        "    self.fn=activation_function\n",
        "    self.c=0\n",
        "    self.n=0\n",
        "    self.x=[]\n",
        "    self.y=[]\n",
        "    self.w1=[]\n",
        "    self.b1=[]\n",
        "    self.w2=[]\n",
        "    self.b2=[]\n",
        "    self.z1=[]\n",
        "    self.a1=[]\n",
        "    self.z2=[]\n",
        "    self.a2=[]\n",
        "    self.epoch_accs=[]\n",
        "    self.wtype=weights\n",
        "\n",
        "  def init_params(self):\n",
        "    if(self.wtype=='random'):\n",
        "      self.w1=np.random.rand(self.m,self.n)-0.5\n",
        "      self.b1=np.random.rand(self.m,1)-0.5\n",
        "      self.w2=np.random.rand(self.c,self.m)-0.5\n",
        "      self.b2=np.random.rand(self.c,1)-0.5\n",
        "\n",
        "    else:\n",
        "      self.w1=np.full((self.m,self.n),self.wtype)\n",
        "      self.b1=np.full((self.m,1),self.wtype)\n",
        "      self.w2=np.full((self.c,self.m),self.wtype)\n",
        "      self.b2=np.full((self.c,1),self.wtype)\n",
        "\n",
        "  def activ(self,Z):\n",
        "    if(self.fn=='ReLU'):\n",
        "      return np.maximum(Z, 0)\n",
        "    elif(self.fn=='sigmoid'):\n",
        "      return(1.0 / (1 + np.exp(-1 * Z)))\n",
        "    else:\n",
        "      return(np.tanh(Z))\n",
        "\n",
        "  def derr_activ(self,Z):\n",
        "    if(self.fn=='ReLU'):\n",
        "      return Z>0\n",
        "    elif(self.fn=='sigmoid'):\n",
        "      return(self.activ(Z)*(1-self.activ(Z)))\n",
        "    else:\n",
        "      return(1-self.activ(Z)**2)\n",
        "\n",
        "  def softmax(self,Z):\n",
        "\n",
        "    A = math.exp(Z) / sum(math.exp(Z))\n",
        "    return A\n",
        "\n",
        "  def one_hot(self,Y):\n",
        "    one_hot_Y=[]\n",
        "    for i in Y:\n",
        "      l=np.zeros(self.c)\n",
        "      l[i]=1\n",
        "      one_hot_Y.append(l)\n",
        "    one_hot_Y=np.array(one_hot_Y)\n",
        "    one_hot_Y=one_hot_Y.T\n",
        "    return(one_hot_Y)\n",
        "\n",
        "  def forward(self):\n",
        "    self.z1=self.w1.dot(self.x)+self.b1\n",
        "    self.a1=self.activ(self.z1)\n",
        "    self.z2=self.w2.dot(self.a1)+self.b2\n",
        "    self.a2=self.activ(self.z2)\n",
        "\n",
        "  def backward(self):\n",
        "    dz2=self.a2-self.one_hot(self.y)\n",
        "    dw2=1/(len(self.y))*dz2.dot(self.a1.T)\n",
        "    db2=1/(len(self.y))*np.sum(dz2)\n",
        "    dz1=self.w2.T.dot(dz2)*self.derr_activ(self.z1)\n",
        "    dw1=1/(len(self.y))*dz1.dot(self.x.T)\n",
        "    db1=1/(len(self.y))*np.sum(dz1)\n",
        "\n",
        "    self.w1=self.w1-self.a*dw1\n",
        "    self.b1=self.b1-self.a*db1\n",
        "    self.w2=self.w2-self.a*dw2\n",
        "    self.b2=self.b2-self.a*db2\n",
        "\n",
        "  def grad_descent(self):\n",
        "    for i in range(self.iters):\n",
        "      self.forward()\n",
        "      self.backward()\n",
        "      self.epoch_accs.append(accuracy_score(self.y,self.pred(self.x)))\n",
        "\n",
        "  def fit(self,x,y):\n",
        "    self.x=x\n",
        "    self.y=y\n",
        "    self.n=len(x[:,0])\n",
        "    self.c=max(y)+1\n",
        "\n",
        "    self.init_params()\n",
        "    self.grad_descent()\n",
        "\n",
        "  def pred(self,test):\n",
        "    z1=self.w1.dot(test)+self.b1\n",
        "    a1=self.activ(z1)\n",
        "    z2=self.w2.dot(a1)+self.b2\n",
        "    a2=self.activ(z2)\n",
        "\n",
        "    return(np.argmax(a2,0))\n",
        "\n",
        "  def epoch_accuracies(self):\n",
        "    return(self.epoch_accs)\n"
      ],
      "metadata": {
        "id": "6j4QfBEf9fTu"
      },
      "execution_count": null,
      "outputs": []
    },
    {
      "cell_type": "markdown",
      "source": [
        "comparing diffrent activation functions"
      ],
      "metadata": {
        "id": "1J-2vesiXFDf"
      }
    },
    {
      "cell_type": "code",
      "source": [
        "activators=['ReLU','sigmoid','tanh']\n",
        "epoch_accs=[]\n",
        "epochs=200\n",
        "nodes=75\n",
        "rate=0.05\n",
        "for i in activators:\n",
        "  clf=MLP(epochs,rate,nodes,'random',i)\n",
        "  clf.fit(x_train,y_train)\n",
        "  y_pred=clf.pred(x_test)\n",
        "  print(\"accuracy for\",i,\":\",accuracy_score(y_test, y_pred))\n",
        "  epoch_accs.append(clf.epoch_accuracies())"
      ],
      "metadata": {
        "colab": {
          "base_uri": "https://localhost:8080/"
        },
        "id": "72fCDcq9FPcL",
        "outputId": "69c2fcb5-6152-4dd0-fc79-6faf3e1327b6"
      },
      "execution_count": null,
      "outputs": [
        {
          "output_type": "stream",
          "name": "stdout",
          "text": [
            "accuracy for ReLU : 0.5937749401436552\n",
            "accuracy for sigmoid : 0.5554668794892259\n",
            "accuracy for tanh : 0.5706304868316041\n"
          ]
        }
      ]
    },
    {
      "cell_type": "code",
      "source": [
        "plt.figure()\n",
        "for i in range(3):\n",
        "  plt.plot([j for j in range(1,epochs+1)],epoch_accs[i],label=activators[i])\n",
        "plt.xlabel(\"epochs\")\n",
        "plt.ylabel(\"accuracy\")\n",
        "plt.legend()\n",
        "plt.show()"
      ],
      "metadata": {
        "colab": {
          "base_uri": "https://localhost:8080/",
          "height": 449
        },
        "id": "7j3Gvb0VM9Cx",
        "outputId": "8bbe9df8-f0e7-4972-af9e-0d84b8d7b6d9"
      },
      "execution_count": null,
      "outputs": [
        {
          "output_type": "display_data",
          "data": {
            "text/plain": [
              "<Figure size 640x480 with 1 Axes>"
            ],
            "image/png": "[encoded data removed]"
          },
          "metadata": {}
        }
      ]
    },
    {
      "cell_type": "code",
      "source": [
        "clf_random=MLP(epochs,rate,nodes,'random','ReLU')\n",
        "clf_random.fit(x_train,y_train)\n",
        "epoch_accs_random=clf_random.epoch_accuracies()\n",
        "y_pred_random=clf_random.pred(x_test)\n",
        "print(\"accuracy for random initialization:\",accuracy_score(y_test, y_pred_random))"
      ],
      "metadata": {
        "colab": {
          "base_uri": "https://localhost:8080/"
        },
        "id": "PUdPK_AWQuj9",
        "outputId": "7108c4af-737e-4413-e6d4-060f31abc3b5"
      },
      "execution_count": null,
      "outputs": [
        {
          "output_type": "stream",
          "name": "stdout",
          "text": [
            "accuracy for random initialization: 0.5977653631284916\n"
          ]
        }
      ]
    },
    {
      "cell_type": "markdown",
      "source": [
        "comparing different initialization methods"
      ],
      "metadata": {
        "id": "qF2Gxx5nZM3h"
      }
    },
    {
      "cell_type": "code",
      "source": [
        "plt.figure()\n",
        "plt.plot([j for j in range(1,epochs+1)],epoch_accs_random)\n",
        "plt.xlabel(\"epoch\")\n",
        "plt.ylabel(\"accuracy\")\n",
        "plt.title(\"Random initialization\")\n",
        "plt.show()"
      ],
      "metadata": {
        "colab": {
          "base_uri": "https://localhost:8080/",
          "height": 472
        },
        "id": "2_kCOmAYRrfJ",
        "outputId": "32680288-acc3-49f1-8bc7-2f8866c45d68"
      },
      "execution_count": null,
      "outputs": [
        {
          "output_type": "display_data",
          "data": {
            "text/plain": [
              "<Figure size 640x480 with 1 Axes>"
            ],
            "image/png": "[encoded data removed]"
          },
          "metadata": {}
        }
      ]
    },
    {
      "cell_type": "code",
      "source": [
        "clf_zero=MLP(epochs,rate,nodes,0,'ReLU')\n",
        "clf_zero.fit(x_train,y_train)\n",
        "epoch_accs_zero=clf_zero.epoch_accuracies()\n",
        "y_pred_zero=clf_zero.pred(x_test)\n",
        "print(\"accuracy for zero initialization:\",accuracy_score(y_test, y_pred_zero))"
      ],
      "metadata": {
        "colab": {
          "base_uri": "https://localhost:8080/"
        },
        "id": "10yIv_WTPMVw",
        "outputId": "a82d95af-32bf-4d16-fad7-407156fbc92f"
      },
      "execution_count": null,
      "outputs": [
        {
          "output_type": "stream",
          "name": "stdout",
          "text": [
            "accuracy for zero initialization: 0.33679169992019153\n"
          ]
        }
      ]
    },
    {
      "cell_type": "code",
      "source": [
        "plt.plot([j for j in range(1,epochs+1)],epoch_accs_zero)\n",
        "plt.xlabel(\"epoch\")\n",
        "plt.ylabel(\"accuracy\")\n",
        "plt.title(\"zero initialization\")"
      ],
      "metadata": {
        "colab": {
          "base_uri": "https://localhost:8080/",
          "height": 489
        },
        "id": "nA7he7KPSPnc",
        "outputId": "108dbc63-615a-4a09-fabf-fd8d6313e31c"
      },
      "execution_count": null,
      "outputs": [
        {
          "output_type": "execute_result",
          "data": {
            "text/plain": [
              "Text(0.5, 1.0, 'zero initialization')"
            ]
          },
          "metadata": {},
          "execution_count": 39
        },
        {
          "output_type": "display_data",
          "data": {
            "text/plain": [
              "<Figure size 640x480 with 1 Axes>"
            ],
            "image/png": "[encoded data removed]"
          },
          "metadata": {}
        }
      ]
    },
    {
      "cell_type": "code",
      "source": [
        "c=0.1\n",
        "const_accs=[]\n",
        "while(c<1):\n",
        "  clf_const=MLP(epochs,rate,nodes,c,'ReLU')\n",
        "  clf_const.fit(x_train,y_train)\n",
        "  y_pred_const=clf_const.pred(x_test)\n",
        "  const_accs.append(accuracy_score(y_test, y_pred_const))\n",
        "  print(\"accuracy for initialization with constant value of\",c,\"is :\",accuracy_score(y_test, y_pred_const))\n",
        "  c+=0.1"
      ],
      "metadata": {
        "colab": {
          "base_uri": "https://localhost:8080/"
        },
        "id": "RrP6s62WS1gD",
        "outputId": "5ae49695-8681-40a3-c667-08efc740f296"
      },
      "execution_count": null,
      "outputs": [
        {
          "output_type": "stream",
          "name": "stdout",
          "text": [
            "accuracy for initialization with constant value of 0.1 is : 0.33679169992019153\n",
            "accuracy for initialization with constant value of 0.2 is : 0.33679169992019153\n",
            "accuracy for initialization with constant value of 0.30000000000000004 is : 0.33679169992019153\n",
            "accuracy for initialization with constant value of 0.4 is : 0.33679169992019153\n",
            "accuracy for initialization with constant value of 0.5 is : 0.33679169992019153\n",
            "accuracy for initialization with constant value of 0.6 is : 0.33679169992019153\n",
            "accuracy for initialization with constant value of 0.7 is : 0.33679169992019153\n",
            "accuracy for initialization with constant value of 0.7999999999999999 is : 0.33679169992019153\n",
            "accuracy for initialization with constant value of 0.8999999999999999 is : 0.33679169992019153\n",
            "accuracy for initialization with constant value of 0.9999999999999999 is : 0.33679169992019153\n"
          ]
        }
      ]
    },
    {
      "cell_type": "code",
      "source": [
        "clf_const=MLP(epochs,rate,nodes,0.1,'ReLU')\n",
        "clf_const.fit(x_train,y_train)\n",
        "epoch_accs_const=clf_const.epoch_accuracies()"
      ],
      "metadata": {
        "id": "h96YizLmYwY7"
      },
      "execution_count": null,
      "outputs": []
    },
    {
      "cell_type": "code",
      "source": [
        "plt.plot([j for j in range(1,epochs+1)],epoch_accs_const)\n",
        "plt.xlabel(\"epoch\")\n",
        "plt.ylabel(\"accuracy\")\n",
        "plt.title(\"constant(0.1) initialization\")"
      ],
      "metadata": {
        "colab": {
          "base_uri": "https://localhost:8080/",
          "height": 489
        },
        "id": "L5wAudN7ZKV5",
        "outputId": "c9a23191-72fc-4255-f9ca-26b1c2070093"
      },
      "execution_count": null,
      "outputs": [
        {
          "output_type": "execute_result",
          "data": {
            "text/plain": [
              "Text(0.5, 1.0, 'constant(0.1) initialization')"
            ]
          },
          "metadata": {},
          "execution_count": 42
        },
        {
          "output_type": "display_data",
          "data": {
            "text/plain": [
              "<Figure size 640x480 with 1 Axes>"
            ],
            "image/png": "[encoded data removed]"
          },
          "metadata": {}
        }
      ]
    },
    {
      "cell_type": "markdown",
      "source": [
        "variation of accuracy with number of nodes"
      ],
      "metadata": {
        "id": "tR9z0EStZj90"
      }
    },
    {
      "cell_type": "code",
      "source": [
        "accs_nodes=[]\n",
        "for n in range(10,251,10):\n",
        "  clf=MLP(epochs,rate,n,'random','ReLU')\n",
        "  clf.fit(x_train,y_train)\n",
        "  y_pred=clf.pred(x_test)\n",
        "  accs_nodes.append(accuracy_score(y_test,y_pred))"
      ],
      "metadata": {
        "id": "9jJUkXnqUJRF"
      },
      "execution_count": null,
      "outputs": []
    },
    {
      "cell_type": "code",
      "source": [
        "plt.plot([j for j in range(10,251,10)],accs_nodes)\n",
        "plt.xlabel(\"number of hidden nodes\")\n",
        "plt.ylabel(\"accuracy\")\n",
        "plt.title(\"nodes v/s accuracy\")"
      ],
      "metadata": {
        "colab": {
          "base_uri": "https://localhost:8080/",
          "height": 489
        },
        "id": "E389G7xeXBlr",
        "outputId": "76471992-cbe0-4f21-88d7-61855bd7ef48"
      },
      "execution_count": null,
      "outputs": [
        {
          "output_type": "execute_result",
          "data": {
            "text/plain": [
              "Text(0.5, 1.0, 'nodes v/s accuracy')"
            ]
          },
          "metadata": {},
          "execution_count": 43
        },
        {
          "output_type": "display_data",
          "data": {
            "text/plain": [
              "<Figure size 640x480 with 1 Axes>"
            ],
            "image/png": "[encoded data removed]"
          },
          "metadata": {}
        }
      ]
    },
    {
      "cell_type": "markdown",
      "source": [
        "storing weights and biases"
      ],
      "metadata": {
        "id": "PKhoKtSIZ4hd"
      }
    },
    {
      "cell_type": "code",
      "source": [
        "import pickle\n",
        "dbase = open('B21AI044.pickle','wb')\n",
        "mlp_variables = [clf_random.w1, clf_random.b1, clf_random.w2, clf_random.b2]\n",
        "pickle.dump(mlp_variables, dbase)\n",
        "dbase.close()"
      ],
      "metadata": {
        "id": "IMkFJNT984A_"
      },
      "execution_count": null,
      "outputs": []
    },
    {
      "cell_type": "code",
      "source": [
        "dbase = open('B21AI044.pickle','rb')\n",
        "\n",
        "mlp_loaded_vars = pickle.load(dbase)\n",
        "dbase.close()\n",
        "print(mlp_loaded_vars)"
      ],
      "metadata": {
        "colab": {
          "base_uri": "https://localhost:8080/"
        },
        "id": "Io20augRAPFo",
        "outputId": "553179bb-1e16-4dec-afc8-d49657f45107"
      },
      "execution_count": null,
      "outputs": [
        {
          "output_type": "stream",
          "name": "stdout",
          "text": [
            "[array([[-0.04684889,  0.12789028,  0.1415846 , -0.21066748, -0.16017715,\n",
            "        -0.41666866,  0.24900073,  0.19060771],\n",
            "       [ 0.21867264, -0.14442358, -0.00607906, -0.49203922,  0.41892665,\n",
            "        -0.11073809, -0.08794832, -0.27262435],\n",
            "       [ 0.00147698,  0.16575914,  0.14780757,  0.0552382 ,  0.41748946,\n",
            "        -0.4233446 , -0.43771076,  0.48894654],\n",
            "       [ 0.14842901,  0.10292797, -0.1960611 ,  0.32015281,  0.45400135,\n",
            "         0.49198728,  0.06098552, -0.33670496],\n",
            "       [ 0.17603153,  0.48202268, -0.38980089,  0.17655902, -0.23985986,\n",
            "        -0.00534258, -0.39620816, -0.2044243 ],\n",
            "       [ 0.42290468,  0.22903723, -0.23821141,  0.17860759, -0.06732375,\n",
            "        -0.03314216, -0.10436975, -0.07137315],\n",
            "       [ 0.16675405, -0.19798679,  0.17735383, -0.33453783,  0.56014049,\n",
            "         0.29346539,  0.33569439,  0.16782785],\n",
            "       [-0.18395847,  0.0623672 ,  0.16400032,  0.28800672,  0.31242176,\n",
            "        -0.10328589,  0.44312935,  0.29493243],\n",
            "       [ 0.38255403,  0.00398954,  0.34073222, -0.05072228,  0.10186326,\n",
            "        -0.03778521,  0.47793604,  0.1351126 ],\n",
            "       [ 0.40637425,  0.05182861, -0.25436032,  0.07312965, -0.48323594,\n",
            "        -0.22549147,  0.08533773,  0.03944866],\n",
            "       [ 0.0961932 , -0.22510299,  0.29016157,  0.23878284,  0.13333279,\n",
            "         0.31103899, -0.42804065, -0.01980681],\n",
            "       [-0.21437434,  0.14226355, -0.25246627,  0.09308978,  0.26365606,\n",
            "        -0.3625137 ,  0.37379497, -0.24098678],\n",
            "       [-0.25302048,  0.44696386,  0.08990671,  0.01293393,  0.10369968,\n",
            "         0.06777143,  0.08327412, -0.37798397],\n",
            "       [-0.01738545,  0.47197942,  0.36698392,  0.15688475, -0.11802218,\n",
            "         0.50257797, -0.3991955 ,  0.22062036],\n",
            "       [-0.0634438 , -0.12240313,  0.41734767, -0.07637362, -0.12941059,\n",
            "         0.50472513, -0.22348333,  0.04589165],\n",
            "       [ 0.16323986,  0.47282225, -0.15703734,  0.20759685, -0.23641956,\n",
            "         0.28267814, -0.46756576,  0.46955826],\n",
            "       [-0.41382567, -0.44514124,  0.43626447,  0.08134391, -0.18687969,\n",
            "        -0.40825811,  0.47094525, -0.3208801 ],\n",
            "       [-0.05483127, -0.0960304 , -0.44176163,  0.11554889, -0.25825155,\n",
            "         0.46808621,  0.04896825,  0.17148395],\n",
            "       [ 0.3297579 ,  0.49821843, -0.48670683,  0.15579748, -0.43139514,\n",
            "        -0.33281284, -0.38436799,  0.50036023],\n",
            "       [-0.39469452,  0.39884577,  0.36231539,  0.50800471,  0.33051136,\n",
            "         0.34293121, -0.25042335,  0.32166756],\n",
            "       [-0.4412743 ,  0.09969496, -0.00681701,  0.10604584,  0.19597657,\n",
            "         0.2480369 ,  0.25021766, -0.3141955 ],\n",
            "       [ 0.25539487, -0.42944562, -0.31766502, -0.14261753, -0.25871615,\n",
            "        -0.08089008, -0.27685389,  0.34448957],\n",
            "       [ 0.18584455,  0.11504255,  0.3514319 ,  0.42237127,  0.29493085,\n",
            "         0.36893317, -0.12290904, -0.17239946],\n",
            "       [-0.4855234 ,  0.2791417 , -0.38923017,  0.21756792, -0.27600643,\n",
            "         0.41102314, -0.35568112,  0.05810854],\n",
            "       [-0.08538506,  0.04080085, -0.36708207,  0.15728127,  0.35389439,\n",
            "         0.34940081,  0.37182149, -0.02937897],\n",
            "       [ 0.15354777,  0.13269993,  0.40525991, -0.28717508, -0.29006561,\n",
            "         0.15781865, -0.00244419, -0.0409966 ],\n",
            "       [-0.02222773,  0.0997633 , -0.16442872, -0.32584962,  0.2398023 ,\n",
            "         0.4414971 , -0.37815787,  0.00950781],\n",
            "       [-0.16665139,  0.17075717,  0.05873563, -0.46673448,  0.20256067,\n",
            "         0.25181931,  0.19187691, -0.18577807],\n",
            "       [ 0.41287294, -0.18156921,  0.28432801,  0.27850645,  0.38106846,\n",
            "         0.08083023,  0.3807989 ,  0.34789135],\n",
            "       [-0.43908766, -0.23080006, -0.26865112,  0.47835215,  0.22436865,\n",
            "         0.10719415,  0.13635919, -0.05472202],\n",
            "       [-0.0549522 , -0.3636129 ,  0.14793978, -0.42242944, -0.26069399,\n",
            "         0.12307507, -0.43820534, -0.15815829],\n",
            "       [-0.13858854, -0.25022107,  0.05736734, -0.19600422, -0.46062506,\n",
            "        -0.13078522,  0.47057751, -0.44734868],\n",
            "       [ 0.34305858, -0.13489296, -0.16894639, -0.19321689,  0.03521098,\n",
            "        -0.0293806 ,  0.16069905, -0.39030494],\n",
            "       [-0.32278006, -0.09633316, -0.2780822 , -0.3443766 ,  0.39664581,\n",
            "         0.45018699,  0.43713566,  0.39260128],\n",
            "       [ 0.40092531,  0.19265048, -0.49386914,  0.21841248,  0.23173674,\n",
            "         0.31041214, -0.34466836,  0.04829904],\n",
            "       [ 0.40852579,  0.3073364 ,  0.23498642, -0.46573005,  0.19738979,\n",
            "        -0.30957921,  0.22922295, -0.24354661],\n",
            "       [ 0.25718431, -0.40148802, -0.02474206,  0.15188967,  0.12639167,\n",
            "         0.10707818,  0.42980276, -0.45292464],\n",
            "       [-0.08919019, -0.28631019,  0.47795652,  0.4598053 ,  0.11309416,\n",
            "        -0.20935002, -0.28177008,  0.16917368],\n",
            "       [ 0.47725294, -0.26308599,  0.43785374, -0.43805818,  0.38821863,\n",
            "         0.25917217,  0.21649831,  0.25190791],\n",
            "       [-0.02293989, -0.18703751, -0.05571988, -0.22477689, -0.30265569,\n",
            "         0.2450154 ,  0.32928447,  0.19895276],\n",
            "       [-0.32145468, -0.01995007,  0.36685183,  0.31396531, -0.1931333 ,\n",
            "         0.31740014,  0.08248434, -0.22441734],\n",
            "       [-0.37038474, -0.46759486,  0.41603436,  0.34475605,  0.35243413,\n",
            "         0.04899548,  0.12101812,  0.46675943],\n",
            "       [ 0.3507222 , -0.12783159,  0.34552956,  0.06397847,  0.29041644,\n",
            "        -0.10432255, -0.44271055, -0.42027514],\n",
            "       [-0.17065261, -0.2403545 , -0.34910494, -0.22342181, -0.33215357,\n",
            "         0.31558063,  0.25431344,  0.25090155],\n",
            "       [ 0.33880223, -0.43238139,  0.38598426, -0.10457658, -0.06444781,\n",
            "         0.27808097, -0.11843459, -0.09382473],\n",
            "       [ 0.09442397, -0.26048158,  0.35435712, -0.05037817,  0.05895664,\n",
            "        -0.40497871, -0.07043447,  0.4413192 ],\n",
            "       [-0.07450925,  0.39426314, -0.47064515, -0.4013655 , -0.02358994,\n",
            "        -0.1823206 , -0.15530365, -0.32405696],\n",
            "       [ 0.09878347, -0.40746557,  0.40747608, -0.40340885, -0.39363772,\n",
            "        -0.46538295, -0.1771942 ,  0.0168218 ],\n",
            "       [-0.1487215 ,  0.25522989, -0.48393051, -0.2208334 , -0.36312839,\n",
            "        -0.13710161, -0.44761654,  0.23955457],\n",
            "       [ 0.34599195,  0.24836894,  0.10829718,  0.2127977 ,  0.3766921 ,\n",
            "         0.27188693,  0.28230206, -0.23217286],\n",
            "       [-0.44737306,  0.17712308,  0.05712822, -0.20576294, -0.35076847,\n",
            "         0.3417195 , -0.25946906, -0.39867843],\n",
            "       [-0.29060714, -0.14114856, -0.46849434,  0.17202954,  0.15268495,\n",
            "        -0.12152352,  0.49735315, -0.4737178 ],\n",
            "       [-0.41641125, -0.49307118, -0.0725156 , -0.21049832, -0.21709633,\n",
            "        -0.07216617,  0.20889913, -0.25985641],\n",
            "       [-0.49451918, -0.44309704, -0.18851803,  0.01942152,  0.07604589,\n",
            "        -0.38847237, -0.36791213, -0.18151302],\n",
            "       [ 0.2373204 , -0.36639798, -0.38926232, -0.00689156,  0.11838016,\n",
            "        -0.1228839 ,  0.18579355, -0.41931988],\n",
            "       [-0.22945219, -0.31087223,  0.06416821, -0.4493532 ,  0.14162759,\n",
            "        -0.40723323, -0.19679904, -0.37201654],\n",
            "       [ 0.23256784, -0.10921471,  0.30854984, -0.17931326, -0.02776442,\n",
            "         0.34125051,  0.20066132,  0.10531279],\n",
            "       [ 0.12817452, -0.20034917, -0.06257609,  0.02958966, -0.15514981,\n",
            "        -0.43235701, -0.00133135, -0.31614635],\n",
            "       [ 0.3445071 ,  0.29569569, -0.12499067, -0.36327735, -0.24497708,\n",
            "        -0.06928366, -0.02114582, -0.41518834],\n",
            "       [ 0.06371891,  0.22483076, -0.29061735, -0.23389971,  0.2256828 ,\n",
            "        -0.18737183, -0.44588974, -0.21258891],\n",
            "       [ 0.1012855 ,  0.21459844,  0.04417175,  0.49336171, -0.2837424 ,\n",
            "        -0.06446418, -0.13352076,  0.024887  ],\n",
            "       [-0.30192574,  0.24109334, -0.08174186, -0.2455692 ,  0.13955876,\n",
            "         0.47213465,  0.40006804,  0.4463436 ],\n",
            "       [-0.11987575, -0.42348268,  0.07752649, -0.32588402, -0.03184743,\n",
            "         0.13577165,  0.01413716, -0.28968325],\n",
            "       [-0.35265121,  0.0856762 , -0.00508865,  0.0432145 ,  0.30334673,\n",
            "        -0.42605656, -0.34967612,  0.408018  ],\n",
            "       [-0.43880069, -0.14444602,  0.42233336,  0.07165024,  0.22703031,\n",
            "        -0.29102289,  0.45881472,  0.30877594],\n",
            "       [ 0.44514573,  0.04182685, -0.14923749,  0.08731629, -0.12479039,\n",
            "        -0.37433058, -0.03940557, -0.2311048 ],\n",
            "       [-0.37890971,  0.02669202, -0.3726618 , -0.4200722 , -0.30334576,\n",
            "         0.18997655, -0.45140931, -0.40270929],\n",
            "       [ 0.39026292,  0.32443965, -0.05593563,  0.38811329,  0.07594113,\n",
            "        -0.26513286,  0.43089313,  0.22206755],\n",
            "       [ 0.09772658,  0.12921448, -0.16340478,  0.28916382,  0.43279178,\n",
            "         0.04451627, -0.35525848,  0.35144635],\n",
            "       [-0.25019155, -0.26956514,  0.42329012, -0.40645565, -0.21063648,\n",
            "        -0.21059804,  0.48694241, -0.01217353],\n",
            "       [ 0.42356866, -0.26646982, -0.20872532, -0.16948622,  0.31340431,\n",
            "        -0.42824041, -0.31904202, -0.33724863],\n",
            "       [-0.05940227, -0.38545304, -0.06571272, -0.0952101 , -0.16083179,\n",
            "        -0.36686563,  0.40869744,  0.33258411],\n",
            "       [-0.22701701, -0.06655055, -0.40063872, -0.24065016, -0.41543854,\n",
            "        -0.36240323, -0.46293751, -0.49649792],\n",
            "       [-0.1828816 , -0.44421714,  0.09242892, -0.37581914,  0.33173796,\n",
            "        -0.31124879, -0.34043302,  0.31799874],\n",
            "       [ 0.4500948 , -0.39511293,  0.15967371,  0.22452317, -0.27443045,\n",
            "         0.14834835, -0.36271307, -0.2537963 ]]), array([[ 0.13431085],\n",
            "       [ 0.37067422],\n",
            "       [ 0.27514118],\n",
            "       [-0.12194466],\n",
            "       [ 0.12128565],\n",
            "       [-0.06835144],\n",
            "       [-0.17349095],\n",
            "       [ 0.04526091],\n",
            "       [ 0.12790387],\n",
            "       [-0.48313112],\n",
            "       [ 0.1231498 ],\n",
            "       [-0.44092699],\n",
            "       [ 0.20902948],\n",
            "       [-0.45695459],\n",
            "       [ 0.40095804],\n",
            "       [-0.22446557],\n",
            "       [ 0.36547529],\n",
            "       [-0.42055124],\n",
            "       [-0.05259899],\n",
            "       [-0.31825407],\n",
            "       [-0.0841812 ],\n",
            "       [-0.22373864],\n",
            "       [-0.4753235 ],\n",
            "       [ 0.14562633],\n",
            "       [ 0.00244044],\n",
            "       [-0.38988653],\n",
            "       [ 0.0607622 ],\n",
            "       [ 0.09389072],\n",
            "       [ 0.17592943],\n",
            "       [-0.21830335],\n",
            "       [ 0.21417601],\n",
            "       [-0.09675107],\n",
            "       [ 0.2670864 ],\n",
            "       [-0.06779365],\n",
            "       [-0.15279674],\n",
            "       [-0.39985545],\n",
            "       [ 0.20865838],\n",
            "       [ 0.10387997],\n",
            "       [ 0.34728019],\n",
            "       [ 0.11264889],\n",
            "       [-0.20461321],\n",
            "       [-0.31380301],\n",
            "       [-0.33074107],\n",
            "       [-0.20738267],\n",
            "       [-0.02640522],\n",
            "       [ 0.19682041],\n",
            "       [-0.08573108],\n",
            "       [ 0.40194414],\n",
            "       [ 0.05175034],\n",
            "       [ 0.08073665],\n",
            "       [ 0.42741882],\n",
            "       [-0.44508522],\n",
            "       [-0.45839336],\n",
            "       [ 0.21218778],\n",
            "       [-0.14109401],\n",
            "       [ 0.35561409],\n",
            "       [-0.25971243],\n",
            "       [ 0.02565059],\n",
            "       [-0.49056937],\n",
            "       [ 0.47462749],\n",
            "       [ 0.25252879],\n",
            "       [ 0.34169222],\n",
            "       [-0.25854884],\n",
            "       [ 0.25132173],\n",
            "       [ 0.30526625],\n",
            "       [-0.48864959],\n",
            "       [ 0.43895941],\n",
            "       [ 0.37881863],\n",
            "       [ 0.3728865 ],\n",
            "       [ 0.15597184],\n",
            "       [-0.26677808],\n",
            "       [-0.1825737 ],\n",
            "       [-0.18800066],\n",
            "       [ 0.46141144],\n",
            "       [ 0.21159671]]), array([[-0.2961711 ,  0.35056223, -0.11627981, -0.01490609,  0.43750543,\n",
            "        -0.04406844, -0.52323836,  0.36725561, -0.06615757, -0.09157589,\n",
            "        -0.41921301,  0.21657996,  0.49075293, -0.39709122,  0.41616575,\n",
            "        -0.46464967, -0.18633477, -0.06603138, -0.01282111, -0.32485913,\n",
            "        -0.34940302,  0.11468885, -0.02084368, -0.50034   , -0.42875385,\n",
            "         0.40859384,  0.20201566, -0.00710726, -0.47959459,  0.26215204,\n",
            "        -0.46406548, -0.04276409, -0.20174884, -0.41317315, -0.09169851,\n",
            "         0.35845155,  0.02603372,  0.35335523,  0.45370259, -0.00368043,\n",
            "         0.03244377, -0.451208  ,  0.16886705,  0.32646721, -0.05538761,\n",
            "        -0.35940132,  0.32508769,  0.17206332,  0.44449315,  0.01732149,\n",
            "        -0.16382237,  0.37909888,  0.12812359,  0.07312752, -0.03158315,\n",
            "        -0.31225891, -0.49780298, -0.07908892, -0.11289254,  0.07720187,\n",
            "        -0.36072562,  0.23419042,  0.02603962, -0.22783005, -0.15098031,\n",
            "         0.3331049 ,  0.24077471,  0.31884839, -0.10028049, -0.40244669,\n",
            "        -0.26874911,  0.44568839,  0.14514053,  0.3686788 ,  0.35410676],\n",
            "       [-0.37853073, -0.25211566,  0.27703972, -0.03916307, -0.25236676,\n",
            "        -0.31675052,  0.3744435 ,  0.20287226,  0.50196486, -0.33637249,\n",
            "        -0.09256077, -0.27852607, -0.10694521, -0.165218  ,  0.28829188,\n",
            "         0.22300692, -0.46144718, -0.49878358, -0.1394004 ,  0.20976911,\n",
            "         0.21974873,  0.13809139, -0.32945555,  0.28236169, -0.04288634,\n",
            "        -0.22637384,  0.45040915, -0.38505737, -0.34634537, -0.07849611,\n",
            "        -0.09997673, -0.3154119 , -0.34368699, -0.23557443, -0.30879609,\n",
            "        -0.15604941, -0.14503182, -0.09097862,  0.00241952,  0.15981519,\n",
            "         0.14827686, -0.34942305,  0.48776114,  0.4388796 ,  0.39471771,\n",
            "        -0.39185275,  0.27294557, -0.04654382, -0.20919879, -0.1174685 ,\n",
            "        -0.10658627,  0.21723557, -0.38752819, -0.31902739, -0.04409411,\n",
            "         0.18437103,  0.13476777, -0.18521025, -0.36313613,  0.40842326,\n",
            "        -0.43967299, -0.13729787,  0.31594245, -0.3571235 ,  0.116855  ,\n",
            "         0.21819077,  0.35497668,  0.01819105,  0.02679136, -0.04665608,\n",
            "         0.2214193 ,  0.05560081,  0.36960238, -0.16974037,  0.31303506],\n",
            "       [-0.37504967,  0.19590829,  0.48850307, -0.50399257,  0.0969118 ,\n",
            "        -0.42597593,  0.3864883 ,  0.34380996,  0.31138057, -0.4845458 ,\n",
            "         0.2625746 , -0.25829501,  0.37438652, -0.43385575, -0.34466446,\n",
            "         0.13850072,  0.02584314, -0.15730629,  0.22108198,  0.03515302,\n",
            "        -0.17072808, -0.48603925, -0.56349095, -0.14007068,  0.32307188,\n",
            "         0.46647901, -0.42368207,  0.21237747, -0.21927657, -0.41044614,\n",
            "        -0.229423  ,  0.12259005,  0.37925125,  0.37030671, -0.17037274,\n",
            "         0.37873088, -0.33175798,  0.10607298, -0.15354045, -0.46389418,\n",
            "        -0.38959465, -0.06836573,  0.01713146,  0.18722606, -0.08810994,\n",
            "         0.02778696, -0.06992093, -0.39044443,  0.3377479 ,  0.26060904,\n",
            "        -0.38790508, -0.12125699, -0.46122538, -0.44998631, -0.06124037,\n",
            "        -0.37896064,  0.31209994,  0.47657399, -0.48697587, -0.34385634,\n",
            "        -0.1219393 , -0.35094862, -0.49850684, -0.03019794, -0.11694853,\n",
            "        -0.42309618, -0.07855216, -0.35884154,  0.59954647,  0.38573315,\n",
            "         0.40985971,  0.13118484,  0.24123221,  0.06722452,  0.29241597]]), array([[ 0.17047388],\n",
            "       [ 0.46868141],\n",
            "       [-0.04700487]])]\n"
          ]
        }
      ]
    },
    {
      "cell_type": "markdown",
      "source": [
        "loading weights and biases"
      ],
      "metadata": {
        "id": "kLpUUKtKZ9V7"
      }
    },
    {
      "cell_type": "code",
      "source": [
        "mlp_loaded=MLP(epochs,rate,nodes,'random','ReLU')\n",
        "mlp_loaded.w1,mlp_loaded.b1,mlp_loaded.w2,mlp_loaded.b2=mlp_loaded_vars"
      ],
      "metadata": {
        "id": "c970RxFIAgFx"
      },
      "execution_count": null,
      "outputs": []
    }
  ]
}